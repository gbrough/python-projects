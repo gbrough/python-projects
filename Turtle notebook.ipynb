{
 "cells": [
  {
   "cell_type": "code",
   "execution_count": 4,
   "id": "f2c49e11",
   "metadata": {},
   "outputs": [],
   "source": [
    "import turtle\n",
    "import math\n",
    "my_turtle = turtle.Turtle()\n",
    "my_turtle.forward(100)\n",
    "my_turtle.left(90)\n",
    "my_turtle.forward(100)\n",
    "my_turtle.left(90)\n",
    "my_turtle.forward(100)\n",
    "my_turtle.left(90)\n",
    "#my_turtle.forward(100)"
   ]
  },
  {
   "cell_type": "code",
   "execution_count": null,
   "id": "c1fa998b",
   "metadata": {},
   "outputs": [],
   "source": []
  },
  {
   "cell_type": "code",
   "execution_count": null,
   "id": "549f8c66",
   "metadata": {},
   "outputs": [],
   "source": []
  }
 ],
 "metadata": {
  "kernelspec": {
   "display_name": "Python 3",
   "language": "python",
   "name": "python3"
  },
  "language_info": {
   "codemirror_mode": {
    "name": "ipython",
    "version": 3
   },
   "file_extension": ".py",
   "mimetype": "text/x-python",
   "name": "python",
   "nbconvert_exporter": "python",
   "pygments_lexer": "ipython3",
   "version": "3.8.8"
  }
 },
 "nbformat": 4,
 "nbformat_minor": 5
}
